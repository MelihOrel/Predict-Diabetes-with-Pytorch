{
 "cells": [
  {
   "cell_type": "code",
   "execution_count": 1,
   "metadata": {},
   "outputs": [],
   "source": [
    "import torch\n",
    "import torch.nn as nn\n",
    "import torch.nn.functional as F\n",
    "from torch.utils.data import Dataset, DataLoader\n",
    "from sklearn.model_selection import train_test_split\n",
    "\n",
    "import pandas as pd\n",
    "import matplotlib.pyplot as plt"
   ]
  },
  {
   "cell_type": "code",
   "execution_count": 2,
   "metadata": {},
   "outputs": [],
   "source": [
    "df = pd.read_csv('diabetes.csv')"
   ]
  },
  {
   "cell_type": "code",
   "execution_count": 3,
   "metadata": {},
   "outputs": [
    {
     "data": {
      "text/html": [
       "<div>\n",
       "<style scoped>\n",
       "    .dataframe tbody tr th:only-of-type {\n",
       "        vertical-align: middle;\n",
       "    }\n",
       "\n",
       "    .dataframe tbody tr th {\n",
       "        vertical-align: top;\n",
       "    }\n",
       "\n",
       "    .dataframe thead th {\n",
       "        text-align: right;\n",
       "    }\n",
       "</style>\n",
       "<table border=\"1\" class=\"dataframe\">\n",
       "  <thead>\n",
       "    <tr style=\"text-align: right;\">\n",
       "      <th></th>\n",
       "      <th>Pregnancies</th>\n",
       "      <th>Glucose</th>\n",
       "      <th>BloodPressure</th>\n",
       "      <th>SkinThickness</th>\n",
       "      <th>Insulin</th>\n",
       "      <th>BMI</th>\n",
       "      <th>DiabetesPedigreeFunction</th>\n",
       "      <th>Age</th>\n",
       "      <th>Outcome</th>\n",
       "    </tr>\n",
       "  </thead>\n",
       "  <tbody>\n",
       "    <tr>\n",
       "      <th>0</th>\n",
       "      <td>6</td>\n",
       "      <td>148</td>\n",
       "      <td>72</td>\n",
       "      <td>35</td>\n",
       "      <td>0</td>\n",
       "      <td>33.6</td>\n",
       "      <td>0.627</td>\n",
       "      <td>50</td>\n",
       "      <td>1</td>\n",
       "    </tr>\n",
       "    <tr>\n",
       "      <th>1</th>\n",
       "      <td>1</td>\n",
       "      <td>85</td>\n",
       "      <td>66</td>\n",
       "      <td>29</td>\n",
       "      <td>0</td>\n",
       "      <td>26.6</td>\n",
       "      <td>0.351</td>\n",
       "      <td>31</td>\n",
       "      <td>0</td>\n",
       "    </tr>\n",
       "    <tr>\n",
       "      <th>2</th>\n",
       "      <td>8</td>\n",
       "      <td>183</td>\n",
       "      <td>64</td>\n",
       "      <td>0</td>\n",
       "      <td>0</td>\n",
       "      <td>23.3</td>\n",
       "      <td>0.672</td>\n",
       "      <td>32</td>\n",
       "      <td>1</td>\n",
       "    </tr>\n",
       "    <tr>\n",
       "      <th>3</th>\n",
       "      <td>1</td>\n",
       "      <td>89</td>\n",
       "      <td>66</td>\n",
       "      <td>23</td>\n",
       "      <td>94</td>\n",
       "      <td>28.1</td>\n",
       "      <td>0.167</td>\n",
       "      <td>21</td>\n",
       "      <td>0</td>\n",
       "    </tr>\n",
       "    <tr>\n",
       "      <th>4</th>\n",
       "      <td>0</td>\n",
       "      <td>137</td>\n",
       "      <td>40</td>\n",
       "      <td>35</td>\n",
       "      <td>168</td>\n",
       "      <td>43.1</td>\n",
       "      <td>2.288</td>\n",
       "      <td>33</td>\n",
       "      <td>1</td>\n",
       "    </tr>\n",
       "  </tbody>\n",
       "</table>\n",
       "</div>"
      ],
      "text/plain": [
       "   Pregnancies  Glucose  BloodPressure  SkinThickness  Insulin   BMI  \\\n",
       "0            6      148             72             35        0  33.6   \n",
       "1            1       85             66             29        0  26.6   \n",
       "2            8      183             64              0        0  23.3   \n",
       "3            1       89             66             23       94  28.1   \n",
       "4            0      137             40             35      168  43.1   \n",
       "\n",
       "   DiabetesPedigreeFunction  Age  Outcome  \n",
       "0                     0.627   50        1  \n",
       "1                     0.351   31        0  \n",
       "2                     0.672   32        1  \n",
       "3                     0.167   21        0  \n",
       "4                     2.288   33        1  "
      ]
     },
     "execution_count": 3,
     "metadata": {},
     "output_type": "execute_result"
    }
   ],
   "source": [
    "df.head()"
   ]
  },
  {
   "cell_type": "markdown",
   "metadata": {},
   "source": [
    "# Train/Test/Split"
   ]
  },
  {
   "cell_type": "code",
   "execution_count": 4,
   "metadata": {},
   "outputs": [],
   "source": [
    "X = df.drop('Outcome',axis=1).values\n",
    "y = df['Outcome'].values"
   ]
  },
  {
   "cell_type": "code",
   "execution_count": 5,
   "metadata": {},
   "outputs": [],
   "source": [
    "X_train, X_test, y_train, y_test = train_test_split(X,y,test_size=0.2,random_state=13)\n"
   ]
  },
  {
   "cell_type": "code",
   "execution_count": 6,
   "metadata": {},
   "outputs": [],
   "source": [
    "X_train = torch.FloatTensor(X_train)\n",
    "X_test = torch.FloatTensor(X_test)\n",
    "# y_train = F.one_hot(torch.LongTensor(y_train))  # not needed with Cross Entropy Loss\n",
    "# y_test = F.one_hot(torch.LongTensor(y_test))\n",
    "y_train = torch.LongTensor(y_train)\n",
    "y_test = torch.LongTensor(y_test)"
   ]
  },
  {
   "cell_type": "code",
   "execution_count": 7,
   "metadata": {},
   "outputs": [
    {
     "data": {
      "text/plain": [
       "torch.Size([154, 8])"
      ]
     },
     "execution_count": 7,
     "metadata": {},
     "output_type": "execute_result"
    }
   ],
   "source": [
    "X_test.shape"
   ]
  },
  {
   "cell_type": "code",
   "execution_count": 8,
   "metadata": {},
   "outputs": [],
   "source": [
    "trainloader = DataLoader(X_train, batch_size=60, shuffle=True)\n",
    "\n",
    "testloader = DataLoader(X_test, batch_size=60, shuffle=False)"
   ]
  },
  {
   "cell_type": "markdown",
   "metadata": {},
   "source": [
    "# Create a model class"
   ]
  },
  {
   "cell_type": "code",
   "execution_count": 9,
   "metadata": {},
   "outputs": [],
   "source": [
    "class Model(nn.Module):\n",
    "    def __init__(self,input_layer=8,h1=128,h2=64,h3=32,h4=16,h5=8,output_layer=2):\n",
    "        super().__init__()\n",
    "        self.fc1 = nn.Linear(input_layer,h1)      #input layers\n",
    "        self.fc2 = nn.Linear(h1, h2)              #hidden layers\n",
    "        self.fc3 = nn.Linear(h2, h3)               \n",
    "        self.fc4 = nn.Linear(h3, h4)\n",
    "        self.fc5 = nn.Linear(h4, h5)              #hidden layers\n",
    "        self.out = nn.Linear(h5, output_layer)    #output layers\n",
    "        \n",
    "    def forward(self,x):\n",
    "        x = F.relu(self.fc1(x))\n",
    "        x = F.relu(self.fc2(x))\n",
    "        x = F.relu(self.fc3(x))\n",
    "        x = F.relu(self.fc4(x))\n",
    "        x = F.relu(self.fc5(x))\n",
    "        x = self.out(x)\n",
    "        return x"
   ]
  },
  {
   "cell_type": "code",
   "execution_count": 10,
   "metadata": {},
   "outputs": [],
   "source": [
    "torch.manual_seed(42)\n",
    "model = Model()"
   ]
  },
  {
   "cell_type": "code",
   "execution_count": 11,
   "metadata": {},
   "outputs": [
    {
     "data": {
      "text/plain": [
       "Model(\n",
       "  (fc1): Linear(in_features=8, out_features=128, bias=True)\n",
       "  (fc2): Linear(in_features=128, out_features=64, bias=True)\n",
       "  (fc3): Linear(in_features=64, out_features=32, bias=True)\n",
       "  (fc4): Linear(in_features=32, out_features=16, bias=True)\n",
       "  (fc5): Linear(in_features=16, out_features=8, bias=True)\n",
       "  (out): Linear(in_features=8, out_features=2, bias=True)\n",
       ")"
      ]
     },
     "execution_count": 11,
     "metadata": {},
     "output_type": "execute_result"
    }
   ],
   "source": [
    "model"
   ]
  },
  {
   "cell_type": "markdown",
   "metadata": {},
   "source": [
    "# Define loss  and optimizations"
   ]
  },
  {
   "cell_type": "code",
   "execution_count": 12,
   "metadata": {},
   "outputs": [],
   "source": [
    "criterion = nn.CrossEntropyLoss()\n",
    "optimizer = torch.optim.Adam(model.parameters(), lr=0.0001)"
   ]
  },
  {
   "cell_type": "markdown",
   "metadata": {},
   "source": [
    "# Train the model"
   ]
  },
  {
   "cell_type": "code",
   "execution_count": 13,
   "metadata": {},
   "outputs": [
    {
     "name": "stdout",
     "output_type": "stream",
     "text": [
      "epoch: 10  loss: 0.68011552\n",
      "epoch: 20  loss: 0.65978283\n",
      "epoch: 30  loss: 0.64796150\n",
      "epoch: 40  loss: 0.63812232\n",
      "epoch: 50  loss: 0.62996554\n",
      "epoch: 60  loss: 0.62381285\n",
      "epoch: 70  loss: 0.61775011\n",
      "epoch: 80  loss: 0.61231488\n",
      "epoch: 90  loss: 0.60737461\n",
      "epoch: 100  loss: 0.60328001\n",
      "epoch: 110  loss: 0.59980196\n",
      "epoch: 120  loss: 0.59694731\n",
      "epoch: 130  loss: 0.59439218\n",
      "epoch: 140  loss: 0.59198296\n",
      "epoch: 150  loss: 0.58976072\n",
      "epoch: 160  loss: 0.58754599\n",
      "epoch: 170  loss: 0.58531278\n",
      "epoch: 180  loss: 0.58315700\n",
      "epoch: 190  loss: 0.58104986\n",
      "epoch: 200  loss: 0.57907003\n",
      "epoch: 210  loss: 0.57714486\n",
      "epoch: 220  loss: 0.57529390\n",
      "epoch: 230  loss: 0.57338345\n",
      "epoch: 240  loss: 0.57155526\n",
      "epoch: 250  loss: 0.56971598\n",
      "epoch: 260  loss: 0.56804842\n",
      "epoch: 270  loss: 0.56646919\n",
      "epoch: 280  loss: 0.56485009\n",
      "epoch: 290  loss: 0.56309015\n",
      "epoch: 300  loss: 0.56131351\n"
     ]
    }
   ],
   "source": [
    "epochs = 300\n",
    "losses = []\n",
    "\n",
    "for i in range(epochs):\n",
    "    i+=1\n",
    "    loss = criterion(model.forward(X_train), y_train)\n",
    "    losses.append(loss)\n",
    "    \n",
    "    \n",
    "    if i%10 == 0:\n",
    "        print(f'epoch: {i:2}  loss: {loss.item():10.8f}')\n",
    "\n",
    "    optimizer.zero_grad()\n",
    "    loss.backward()\n",
    "    optimizer.step()"
   ]
  },
  {
   "cell_type": "code",
   "execution_count": 14,
   "metadata": {},
   "outputs": [
    {
     "data": {
      "image/png": "[encoded data removed]",
      "text/plain": [
       "<Figure size 432x288 with 1 Axes>"
      ]
     },
     "metadata": {
      "needs_background": "light"
     },
     "output_type": "display_data"
    }
   ],
   "source": [
    "### plot\n",
    "plt.plot(range(epochs), losses)\n",
    "plt.ylabel('Loss')\n",
    "plt.xlabel('epoch');"
   ]
  },
  {
   "cell_type": "markdown",
   "metadata": {},
   "source": [
    "# Evaluate the model"
   ]
  },
  {
   "cell_type": "code",
   "execution_count": 15,
   "metadata": {},
   "outputs": [
    {
     "name": "stdout",
     "output_type": "stream",
     "text": [
      "0.59186786\n"
     ]
    }
   ],
   "source": [
    "with torch.no_grad():\n",
    "    y_val = model.forward(X_test)\n",
    "    loss = criterion(y_val, y_test)\n",
    "print(f'{loss:.8f}')"
   ]
  },
  {
   "cell_type": "code",
   "execution_count": 16,
   "metadata": {
    "scrolled": false
   },
   "outputs": [
    {
     "name": "stdout",
     "output_type": "stream",
     "text": [
      " 1. tensor([-0.1219, -0.0960])              0\n",
      " 2. tensor([-0.0523, -2.3144])              0\n",
      " 3. tensor([-0.1668, -0.5864])              0\n",
      " 4. tensor([-0.1219, -0.0960])              1\n",
      " 5. tensor([-0.2049, -0.7074])              0\n",
      " 6. tensor([-0.4014, -1.6803])              0\n",
      " 7. tensor([-0.1045, -2.2875])              0\n",
      " 8. tensor([-0.0734, -2.2632])              0\n",
      " 9. tensor([-0.1505, -0.6099])              0\n",
      "10. tensor([-0.2148, -0.8849])              1\n",
      "11. tensor([-0.3066, -1.4367])              0\n",
      "12. tensor([-0.3674, -1.6411])              0\n",
      "13. tensor([-0.4403, -1.9901])              0\n",
      "14. tensor([-0.1219, -0.0960])              1\n",
      "15. tensor([-0.1449, -0.4972])              0\n",
      "16. tensor([-0.1714, -0.4660])              0\n",
      "17. tensor([-0.1498, -1.6043])              1\n",
      "18. tensor([-0.1356, -0.2923])              0\n",
      "19. tensor([-0.1267, -0.2202])              1\n",
      "20. tensor([-0.1498, -0.3430])              0\n",
      "21. tensor([-0.2555, -1.2535])              0\n",
      "22. tensor([-0.1344, -0.1234])              0\n",
      "23. tensor([-0.1427, -0.1633])              1\n",
      "24. tensor([-0.1434, -0.7717])              1\n",
      "25. tensor([-0.2406, -1.6149])              0\n",
      "26. tensor([-0.1209, -0.0967])              1\n",
      "27. tensor([-0.1208, -0.5501])              1\n",
      "28. tensor([-0.2762, -1.1005])              1\n",
      "29. tensor([-0.2609, -0.6546])              1\n",
      "30. tensor([-0.1219, -0.0960])              1\n",
      "31. tensor([-0.1219, -0.0960])              1\n",
      "32. tensor([ 0.0397, -1.1304])              0\n",
      "33. tensor([-0.1239, -0.1006])              0\n",
      "34. tensor([-0.3071, -0.9560])              1\n",
      "35. tensor([-0.2041, -0.8574])              0\n",
      "36. tensor([-0.0487, -2.3582])              0\n",
      "37. tensor([-0.0998, -0.1106])              1\n",
      "38. tensor([-0.0699, -0.0963])              0\n",
      "39. tensor([-0.1301, -0.5417])              0\n",
      "40. tensor([-0.1948, -1.8637])              0\n",
      "41. tensor([-0.1921, -0.3783])              0\n",
      "42. tensor([-0.1523, -0.1648])              0\n",
      "43. tensor([-0.2528, -1.4601])              0\n",
      "44. tensor([-0.1007, -0.4629])              0\n",
      "45. tensor([-0.3199, -1.2163])              0\n",
      "46. tensor([-0.1167, -0.2850])              1\n",
      "47. tensor([-0.1219, -0.0960])              0\n",
      "48. tensor([-0.3731, -1.4596])              0\n",
      "49. tensor([-0.1219, -0.0960])              0\n",
      "50. tensor([-0.5139, -3.2624])              0\n",
      "51. tensor([-0.2164, -0.8564])              1\n",
      "52. tensor([-0.0903, -0.1234])              0\n",
      "53. tensor([-0.0875, -1.6552])              0\n",
      "54. tensor([-0.1270, -0.2606])              0\n",
      "55. tensor([-0.1219, -0.0960])              1\n",
      "56. tensor([-0.3423, -1.7657])              0\n",
      "57. tensor([-0.0626, -0.1617])              0\n",
      "58. tensor([-0.1710, -0.6615])              0\n",
      "59. tensor([-0.1219, -0.0960])              1\n",
      "60. tensor([-0.0927, -0.1153])              0\n",
      "61. tensor([-0.1242, -1.0518])              0\n",
      "62. tensor([-0.0797, -1.5786])              1\n",
      "63. tensor([-0.3498, -1.2186])              1\n",
      "64. tensor([-0.1311, -0.1174])              1\n",
      "65. tensor([-0.1040, -0.0961])              1\n",
      "66. tensor([-0.1219, -0.0960])              1\n",
      "67. tensor([-0.2871, -1.1357])              1\n",
      "68. tensor([-0.4011, -1.6235])              0\n",
      "69. tensor([-0.2224, -0.8026])              1\n",
      "70. tensor([-0.2462, -0.6431])              0\n",
      "71. tensor([-0.1219, -0.0960])              0\n",
      "72. tensor([-0.0268, -0.3299])              0\n",
      "73. tensor([-0.2296, -0.8742])              0\n",
      "74. tensor([-0.2014, -0.4721])              1\n",
      "75. tensor([-0.3173, -1.3854])              1\n",
      "76. tensor([-0.5154, -2.0479])              0\n",
      "77. tensor([-0.2738, -1.6056])              0\n",
      "78. tensor([-0.0862, -0.1077])              0\n",
      "79. tensor([-0.0197, -0.7696])              0\n",
      "80. tensor([-0.5409, -2.2291])              0\n",
      "81. tensor([-0.2508, -1.4792])              0\n",
      "82. tensor([-0.1067, -0.0961])              1\n",
      "83. tensor([-0.2404, -0.8810])              1\n",
      "84. tensor([-0.0146, -1.5630])              0\n",
      "85. tensor([-0.4434, -1.9015])              1\n",
      "86. tensor([-0.1977, -0.9544])              0\n",
      "87. tensor([-0.1387, -0.1351])              1\n",
      "88. tensor([-0.3055, -1.2833])              0\n",
      "89. tensor([-0.1673, -0.7503])              0\n",
      "90. tensor([-0.1584, -0.4104])              0\n",
      "91. tensor([-0.1219, -0.0960])              1\n",
      "92. tensor([-0.1225, -0.0975])              1\n",
      "93. tensor([-0.2614, -0.9343])              1\n",
      "94. tensor([-0.1050, -0.1341])              0\n",
      "95. tensor([-0.0893, -0.0962])              1\n",
      "96. tensor([-0.1219, -0.0960])              1\n",
      "97. tensor([-0.0003, -0.1866])              0\n",
      "98. tensor([-0.1642, -0.2253])              1\n",
      "99. tensor([-0.1698, -0.8387])              1\n",
      "100. tensor([-0.0458, -0.1486])              0\n",
      "101. tensor([-0.4680, -2.1762])              0\n",
      "102. tensor([-0.2409, -0.6509])              1\n",
      "103. tensor([-0.1287, -0.1121])              1\n",
      "104. tensor([-0.1219, -0.0960])              1\n",
      "105. tensor([-0.1267, -2.2049])              0\n",
      "106. tensor([-0.1435, -0.5113])              0\n",
      "107. tensor([-0.3110, -1.1720])              1\n",
      "108. tensor([-0.1284, -0.5847])              0\n",
      "109. tensor([-0.0423, -1.8302])              1\n",
      "110. tensor([-0.1597, -0.1825])              0\n",
      "111. tensor([-0.3058, -1.7955])              0\n",
      "112. tensor([-0.1219, -0.0960])              1\n",
      "113. tensor([-0.1219, -0.0960])              1\n",
      "114. tensor([-0.1219, -0.0960])              1\n",
      "115. tensor([-0.2155, -0.5398])              1\n",
      "116. tensor([-0.1820, -2.3188])              0\n",
      "117. tensor([-0.2768, -0.6896])              1\n",
      "118. tensor([-0.2051, -0.8099])              0\n",
      "119. tensor([-0.3125, -1.0925])              0\n",
      "120. tensor([-0.1296, -2.1262])              0\n",
      "121. tensor([-0.2312, -1.7687])              0\n",
      "122. tensor([-0.1063, -1.0750])              0\n",
      "123. tensor([-0.1243, -0.1067])              0\n",
      "124. tensor([-0.2330, -1.0324])              0\n",
      "125. tensor([-0.1804, -2.8796])              0\n",
      "126. tensor([-0.1219, -0.0960])              1\n",
      "127. tensor([-0.0280, -1.0008])              0\n",
      "128. tensor([-0.1871, -0.2385])              1\n",
      "129. tensor([-0.1804, -0.4967])              0\n",
      "130. tensor([-0.1219, -0.0960])              1\n",
      "131. tensor([-0.4783, -3.2460])              0\n",
      "132. tensor([-0.1311, -2.1863])              0\n",
      "133. tensor([-0.2485, -1.4332])              0\n",
      "134. tensor([-0.0629, -2.3334])              0\n",
      "135. tensor([-0.3576, -1.8915])              0\n",
      "136. tensor([-0.3074, -1.0295])              1\n",
      "137. tensor([-0.2119, -0.6216])              0\n",
      "138. tensor([-0.1322, -0.1601])              0\n",
      "139. tensor([-0.1788, -0.7800])              0\n",
      "140. tensor([-0.1189, -0.2113])              0\n",
      "141. tensor([-0.4271, -1.8895])              1\n",
      "142. tensor([-0.2487, -1.0844])              1\n",
      "143. tensor([-0.3101, -1.4183])              0\n",
      "144. tensor([-0.0306, -1.7298])              0\n",
      "145. tensor([ 0.1217, -0.2373])              0\n",
      "146. tensor([-0.0836, -0.1328])              0\n",
      "147. tensor([-0.1990, -1.7962])              0\n",
      "148. tensor([-0.4440, -1.6945])              0\n",
      "149. tensor([-0.1609, -0.8375])              0\n",
      "150. tensor([-0.3242, -1.3634])              0\n",
      "151. tensor([-0.1219, -0.0960])              1\n",
      "152. tensor([-0.3527, -1.4408])              1\n",
      "153. tensor([-0.3888, -1.6103])              0\n",
      "154. tensor([-0.6933, -4.8201])              0\n",
      "\n",
      "113 out of 154 = 73.38% correct\n"
     ]
    }
   ],
   "source": [
    "correct = 0\n",
    "with torch.no_grad():\n",
    "    for i,data in enumerate(X_test):\n",
    "        y_val = model.forward(data)\n",
    "        print(f'{i+1:2}. {str(y_val):38}  {y_test[i]}')\n",
    "        if y_val.argmax().item() == y_test[i]:\n",
    "            correct += 1\n",
    "\n",
    "print(f'\\n{correct} out of {len(y_test)} = {100*correct/len(y_test):.2f}% correct')"
   ]
  },
  {
   "cell_type": "code",
   "execution_count": 18,
   "metadata": {},
   "outputs": [],
   "source": [
    "#Save the Model\n",
    "torch.save(model.state_dict(), 'diabetes.pt')"
   ]
  },
  {
   "cell_type": "markdown",
   "metadata": {},
   "source": [
    "113 out of 154 = 73.38% correct. As you can see, our model works with 73% accuracy. \n",
    "\n"
   ]
  },
  {
   "cell_type": "code",
   "execution_count": null,
   "metadata": {},
   "outputs": [],
   "source": []
  }
 ],
 "metadata": {
  "kernelspec": {
   "display_name": "Python 3",
   "language": "python",
   "name": "python3"
  },
  "language_info": {
   "codemirror_mode": {
    "name": "ipython",
    "version": 3
   },
   "file_extension": ".py",
   "mimetype": "text/x-python",
   "name": "python",
   "nbconvert_exporter": "python",
   "pygments_lexer": "ipython3",
   "version": "3.7.3"
  }
 },
 "nbformat": 4,
 "nbformat_minor": 4
}
